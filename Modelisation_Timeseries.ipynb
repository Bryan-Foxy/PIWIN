{
 "cells": [
  {
   "cell_type": "markdown",
   "id": "f804b51f-b552-40ea-b38d-0becd54b39b9",
   "metadata": {},
   "source": [
    "# <font size=6 id='modeling'>**MODELISATION**</font>"
   ]
  },
  {
   "cell_type": "code",
   "execution_count": 1,
   "id": "1316fdb4-79d0-4b31-a419-be97c917b505",
   "metadata": {},
   "outputs": [],
   "source": [
    "#Basic Librairies\n",
    "import numpy as np\n",
    "import pandas as pd\n",
    "import pickle"
   ]
  },
  {
   "cell_type": "markdown",
   "id": "008b255f-2ce2-4718-9153-eb2a626978a9",
   "metadata": {},
   "source": [
    "Let's load data "
   ]
  },
  {
   "cell_type": "code",
   "execution_count": 2,
   "id": "2c4e1bc9-f32d-46ec-8ed2-99521ac9f2b3",
   "metadata": {},
   "outputs": [],
   "source": [
    "# Load X_train\n",
    "X_train = pd.read_pickle(\"Data/X_train.pkl\")\n",
    "# Load y_train\n",
    "y_train = pd.read_pickle(\"Data/y_train.pkl\")\n",
    "# Load X_valid\n",
    "X_valid = pd.read_pickle(\"Data/X_valid.pkl\")\n",
    "# Load y_valid\n",
    "y_valid = pd.read_pickle(\"Data/y_valid.pkl\")"
   ]
  },
  {
   "cell_type": "code",
   "execution_count": 3,
   "id": "8651c1ae-f0c5-494c-95ee-b89a7b6f8e48",
   "metadata": {},
   "outputs": [
    {
     "name": "stdout",
     "output_type": "stream",
     "text": [
      " Dimension of the data: \n",
      " ---------------------------------\n",
      " The shape of X_train = (7736, 14) \n",
      " The shape of y_train = (7736,) \n",
      " The shape of X_valid = (1934, 14) \n",
      " The shape of y_valid = (1934,)\n"
     ]
    }
   ],
   "source": [
    "print(\" Dimension of the data: \\n\",\"-\"*33)\n",
    "print(\" The shape of X_train = {} \\n The shape of y_train = {} \\n The shape of X_valid = {} \\n The shape of y_valid = {}\".format(X_train.shape, y_train.shape, X_valid.shape, y_valid.shape))"
   ]
  },
  {
   "cell_type": "code",
   "execution_count": 4,
   "id": "8569121c-29ca-4c13-98c6-6f19b47db61f",
   "metadata": {},
   "outputs": [],
   "source": [
    "import warnings\n",
    "warnings.filterwarnings(\"ignore\")"
   ]
  },
  {
   "cell_type": "markdown",
   "id": "4642c13b-ca87-41ee-8645-f7c777bc9d6a",
   "metadata": {},
   "source": [
    "ARIMA (AutoRegressive Integrated Moving Average) is a time series model that combines auto-regression (AR) and moving average (MA). ARIMA is used to model stationary time series or non-stationary time series which can be transformed into stationary series by differentiating the time series at a given time.\n",
    "\n",
    "The ARIMA model is characterized by three main parameters: p, d and q.\n",
    "\n",
    "p: order of auto-regression (number of lags used as predictors)\n",
    "\n",
    "d: order of differentiation (number of times the series must be differentiated to become stationary)\n",
    "\n",
    "q: order of the moving average (number of lags of the error in the prediction)\n",
    "\n",
    "\n",
    "The ARIMA modeling process typically involves selecting these parameters and estimating model coefficients from time series data. This can be done manually or using automatic methods such as grid search or automated pattern search (e.g. with the pmdarima library in Python)."
   ]
  },
  {
   "cell_type": "code",
   "execution_count": 5,
   "id": "8a0dbedd-f84e-469e-b653-844292ef29ed",
   "metadata": {},
   "outputs": [
    {
     "name": "stdout",
     "output_type": "stream",
     "text": [
      "Performing stepwise search to minimize aic\n",
      " ARIMA(2,1,2)(0,0,0)[0] intercept   : AIC=10884.882, Time=0.59 sec\n",
      " ARIMA(0,1,0)(0,0,0)[0] intercept   : AIC=10876.902, Time=0.23 sec\n",
      " ARIMA(1,1,0)(0,0,0)[0] intercept   : AIC=10878.902, Time=0.56 sec\n",
      " ARIMA(0,1,1)(0,0,0)[0] intercept   : AIC=10878.902, Time=0.76 sec\n",
      " ARIMA(0,1,0)(0,0,0)[0]             : AIC=10874.968, Time=0.06 sec\n",
      " ARIMA(1,1,1)(0,0,0)[0] intercept   : AIC=10503.275, Time=1.37 sec\n",
      " ARIMA(2,1,1)(0,0,0)[0] intercept   : AIC=10385.144, Time=1.06 sec\n",
      " ARIMA(2,1,0)(0,0,0)[0] intercept   : AIC=10880.882, Time=0.66 sec\n",
      " ARIMA(3,1,1)(0,0,0)[0] intercept   : AIC=10884.873, Time=0.64 sec\n",
      " ARIMA(1,1,2)(0,0,0)[0] intercept   : AIC=10882.882, Time=0.71 sec\n",
      " ARIMA(3,1,0)(0,0,0)[0] intercept   : AIC=10882.873, Time=1.20 sec\n",
      " ARIMA(3,1,2)(0,0,0)[0] intercept   : AIC=10094.281, Time=2.99 sec\n",
      " ARIMA(4,1,2)(0,0,0)[0] intercept   : AIC=10071.937, Time=4.50 sec\n",
      " ARIMA(4,1,1)(0,0,0)[0] intercept   : AIC=9623.949, Time=3.25 sec\n",
      " ARIMA(4,1,0)(0,0,0)[0] intercept   : AIC=10884.852, Time=1.35 sec\n",
      " ARIMA(5,1,1)(0,0,0)[0] intercept   : AIC=6553.273, Time=3.34 sec\n",
      " ARIMA(5,1,0)(0,0,0)[0] intercept   : AIC=7117.889, Time=1.14 sec\n",
      " ARIMA(5,1,2)(0,0,0)[0] intercept   : AIC=6501.704, Time=4.20 sec\n",
      " ARIMA(5,1,3)(0,0,0)[0] intercept   : AIC=6356.728, Time=6.96 sec\n",
      " ARIMA(4,1,3)(0,0,0)[0] intercept   : AIC=7150.692, Time=5.09 sec\n",
      " ARIMA(5,1,4)(0,0,0)[0] intercept   : AIC=5848.713, Time=7.26 sec\n",
      " ARIMA(4,1,4)(0,0,0)[0] intercept   : AIC=6126.124, Time=6.73 sec\n",
      " ARIMA(5,1,5)(0,0,0)[0] intercept   : AIC=5150.187, Time=9.67 sec\n",
      " ARIMA(4,1,5)(0,0,0)[0] intercept   : AIC=6707.434, Time=10.15 sec\n",
      " ARIMA(5,1,5)(0,0,0)[0]             : AIC=5155.179, Time=4.79 sec\n",
      "\n",
      "Best model:  ARIMA(5,1,5)(0,0,0)[0] intercept\n",
      "Total fit time: 79.278 seconds\n"
     ]
    }
   ],
   "source": [
    "from pmdarima import auto_arima\n",
    "stepwise_fit = auto_arima(X_train['type_code'], n_fits=20, trace=True, suppress_warnings=True)"
   ]
  },
  {
   "cell_type": "markdown",
   "id": "9a467f25-d1e7-4c1b-8307-f129054f8a22",
   "metadata": {},
   "source": [
    "The code uses the pmdarima library to automatically fit an ARIMA time series forecast model on the \"type_code\" column of the X_train training data.\n",
    "\n",
    "The \"auto_arima\" function automatically selects the best ARIMA model using advanced regression method based on grid search and akaike criterion information (AIC) and bayes criteria (BIC)."
   ]
  },
  {
   "cell_type": "code",
   "execution_count": 6,
   "id": "671d50e2-e1e5-403f-ba00-f899129d2e1b",
   "metadata": {},
   "outputs": [
    {
     "data": {
      "text/html": [
       "<table class=\"simpletable\">\n",
       "<caption>SARIMAX Results</caption>\n",
       "<tr>\n",
       "  <th>Dep. Variable:</th>           <td>y</td>        <th>  No. Observations:  </th>   <td>7736</td>   \n",
       "</tr>\n",
       "<tr>\n",
       "  <th>Model:</th>           <td>SARIMAX(5, 1, 5)</td> <th>  Log Likelihood     </th> <td>-2563.094</td>\n",
       "</tr>\n",
       "<tr>\n",
       "  <th>Date:</th>            <td>Thu, 06 Apr 2023</td> <th>  AIC                </th> <td>5150.187</td> \n",
       "</tr>\n",
       "<tr>\n",
       "  <th>Time:</th>                <td>22:00:09</td>     <th>  BIC                </th> <td>5233.630</td> \n",
       "</tr>\n",
       "<tr>\n",
       "  <th>Sample:</th>                  <td>0</td>        <th>  HQIC               </th> <td>5178.797</td> \n",
       "</tr>\n",
       "<tr>\n",
       "  <th></th>                      <td> - 7736</td>     <th>                     </th>     <td> </td>    \n",
       "</tr>\n",
       "<tr>\n",
       "  <th>Covariance Type:</th>        <td>opg</td>       <th>                     </th>     <td> </td>    \n",
       "</tr>\n",
       "</table>\n",
       "<table class=\"simpletable\">\n",
       "<tr>\n",
       "      <td></td>         <th>coef</th>     <th>std err</th>      <th>z</th>      <th>P>|z|</th>  <th>[0.025</th>    <th>0.975]</th>  \n",
       "</tr>\n",
       "<tr>\n",
       "  <th>intercept</th> <td>    0.0027</td> <td>    0.006</td> <td>    0.467</td> <td> 0.640</td> <td>   -0.008</td> <td>    0.014</td>\n",
       "</tr>\n",
       "<tr>\n",
       "  <th>ar.L1</th>     <td>    0.3263</td> <td>    0.016</td> <td>   20.520</td> <td> 0.000</td> <td>    0.295</td> <td>    0.357</td>\n",
       "</tr>\n",
       "<tr>\n",
       "  <th>ar.L2</th>     <td>   -0.1935</td> <td>    0.017</td> <td>  -11.491</td> <td> 0.000</td> <td>   -0.226</td> <td>   -0.160</td>\n",
       "</tr>\n",
       "<tr>\n",
       "  <th>ar.L3</th>     <td>    0.0912</td> <td>    0.023</td> <td>    3.957</td> <td> 0.000</td> <td>    0.046</td> <td>    0.136</td>\n",
       "</tr>\n",
       "<tr>\n",
       "  <th>ar.L4</th>     <td>    0.0286</td> <td>    0.024</td> <td>    1.188</td> <td> 0.235</td> <td>   -0.019</td> <td>    0.076</td>\n",
       "</tr>\n",
       "<tr>\n",
       "  <th>ar.L5</th>     <td>   -0.8407</td> <td>    0.019</td> <td>  -45.130</td> <td> 0.000</td> <td>   -0.877</td> <td>   -0.804</td>\n",
       "</tr>\n",
       "<tr>\n",
       "  <th>ma.L1</th>     <td>   -0.5828</td> <td>    0.016</td> <td>  -36.134</td> <td> 0.000</td> <td>   -0.614</td> <td>   -0.551</td>\n",
       "</tr>\n",
       "<tr>\n",
       "  <th>ma.L2</th>     <td>    0.3741</td> <td>    0.021</td> <td>   17.404</td> <td> 0.000</td> <td>    0.332</td> <td>    0.416</td>\n",
       "</tr>\n",
       "<tr>\n",
       "  <th>ma.L3</th>     <td>   -0.2272</td> <td>    0.020</td> <td>  -11.644</td> <td> 0.000</td> <td>   -0.265</td> <td>   -0.189</td>\n",
       "</tr>\n",
       "<tr>\n",
       "  <th>ma.L4</th>     <td>    0.0653</td> <td>    0.017</td> <td>    3.826</td> <td> 0.000</td> <td>    0.032</td> <td>    0.099</td>\n",
       "</tr>\n",
       "<tr>\n",
       "  <th>ma.L5</th>     <td>    0.5136</td> <td>    0.015</td> <td>   34.055</td> <td> 0.000</td> <td>    0.484</td> <td>    0.543</td>\n",
       "</tr>\n",
       "<tr>\n",
       "  <th>sigma2</th>    <td>    0.1139</td> <td>    0.000</td> <td>  535.451</td> <td> 0.000</td> <td>    0.113</td> <td>    0.114</td>\n",
       "</tr>\n",
       "</table>\n",
       "<table class=\"simpletable\">\n",
       "<tr>\n",
       "  <th>Ljung-Box (L1) (Q):</th>     <td>5.33</td> <th>  Jarque-Bera (JB):  </th> <td>43731855.52</td>\n",
       "</tr>\n",
       "<tr>\n",
       "  <th>Prob(Q):</th>                <td>0.02</td> <th>  Prob(JB):          </th>    <td>0.00</td>    \n",
       "</tr>\n",
       "<tr>\n",
       "  <th>Heteroskedasticity (H):</th> <td>0.99</td> <th>  Skew:              </th>   <td>-11.61</td>   \n",
       "</tr>\n",
       "<tr>\n",
       "  <th>Prob(H) (two-sided):</th>    <td>0.89</td> <th>  Kurtosis:          </th>   <td>370.63</td>   \n",
       "</tr>\n",
       "</table><br/><br/>Warnings:<br/>[1] Covariance matrix calculated using the outer product of gradients (complex-step)."
      ],
      "text/plain": [
       "<class 'statsmodels.iolib.summary.Summary'>\n",
       "\"\"\"\n",
       "                               SARIMAX Results                                \n",
       "==============================================================================\n",
       "Dep. Variable:                      y   No. Observations:                 7736\n",
       "Model:               SARIMAX(5, 1, 5)   Log Likelihood               -2563.094\n",
       "Date:                Thu, 06 Apr 2023   AIC                           5150.187\n",
       "Time:                        22:00:09   BIC                           5233.630\n",
       "Sample:                             0   HQIC                          5178.797\n",
       "                               - 7736                                         \n",
       "Covariance Type:                  opg                                         \n",
       "==============================================================================\n",
       "                 coef    std err          z      P>|z|      [0.025      0.975]\n",
       "------------------------------------------------------------------------------\n",
       "intercept      0.0027      0.006      0.467      0.640      -0.008       0.014\n",
       "ar.L1          0.3263      0.016     20.520      0.000       0.295       0.357\n",
       "ar.L2         -0.1935      0.017    -11.491      0.000      -0.226      -0.160\n",
       "ar.L3          0.0912      0.023      3.957      0.000       0.046       0.136\n",
       "ar.L4          0.0286      0.024      1.188      0.235      -0.019       0.076\n",
       "ar.L5         -0.8407      0.019    -45.130      0.000      -0.877      -0.804\n",
       "ma.L1         -0.5828      0.016    -36.134      0.000      -0.614      -0.551\n",
       "ma.L2          0.3741      0.021     17.404      0.000       0.332       0.416\n",
       "ma.L3         -0.2272      0.020    -11.644      0.000      -0.265      -0.189\n",
       "ma.L4          0.0653      0.017      3.826      0.000       0.032       0.099\n",
       "ma.L5          0.5136      0.015     34.055      0.000       0.484       0.543\n",
       "sigma2         0.1139      0.000    535.451      0.000       0.113       0.114\n",
       "===================================================================================\n",
       "Ljung-Box (L1) (Q):                   5.33   Jarque-Bera (JB):          43731855.52\n",
       "Prob(Q):                              0.02   Prob(JB):                         0.00\n",
       "Heteroskedasticity (H):               0.99   Skew:                           -11.61\n",
       "Prob(H) (two-sided):                  0.89   Kurtosis:                       370.63\n",
       "===================================================================================\n",
       "\n",
       "Warnings:\n",
       "[1] Covariance matrix calculated using the outer product of gradients (complex-step).\n",
       "\"\"\""
      ]
     },
     "execution_count": 6,
     "metadata": {},
     "output_type": "execute_result"
    }
   ],
   "source": [
    "stepwise_fit.summary()"
   ]
  },
  {
   "cell_type": "markdown",
   "id": "702be9f2-8ca0-43fb-90ae-b823b0b26bc9",
   "metadata": {},
   "source": [
    "**Train Model**"
   ]
  },
  {
   "cell_type": "markdown",
   "id": "a064744e-ccdb-4333-9eb4-f770bf4c60be",
   "metadata": {},
   "source": [
    "<p>In this part, we will set up models that will solve our problem which is here the detection of IP packet errors in a 4G and 5G network.</p>\n",
    "<p>As you may have noticed earlier, we prepared our data with timeseriesgenerator because we are going to use LSTM and ARIMA to make predictions.</p>\n",
    "<p><strong><i>Why LSTM and ARIMA?</i></strong> Actually it's because we work with complex temporal data and we need to be able to capture footage and remember previous days to make good predictions. LSTM is suitable for this task, and ARIMA is a classical time series model that can capture complex patterns and trends.</p>\n",
    "<p>Also we will set up several templates for:</p>\n",
    "<ul>\n",
    "    <li>Classify the states of our network using LSTM</li>\n",
    "    <li>Detect anomalies that are errors using ARIMA</li>\n",
    "    <li>Predicting latency states using LSTM and ARIMA</li>\n",
    "    <li>Predict if our network is congested using XGBOOST</li>\n",
    "</ul>\n",
    "<p>We will use a combination of Machine Learning and time series models for our problem to ensure the best possible results.</p>"
   ]
  },
  {
   "cell_type": "markdown",
   "id": "3ed4fa94-ec15-4ebe-b8d3-22f143b6a101",
   "metadata": {},
   "source": [
    "Long short-term memory (LSTM) is an artificial neural network used in the fields of artificial intelligence and deep learning. Unlike standard feedforward neural networks, LSTM has feedback connections."
   ]
  },
  {
   "cell_type": "markdown",
   "id": "9ad18231-5607-43ce-8ba9-de46a589a9d6",
   "metadata": {},
   "source": [
    "<img src=\"Plot/LSTM_Cell.svg.png\" alt=\"LSTM\" style=\"width: 60%; height: auto;\">"
   ]
  },
  {
   "cell_type": "markdown",
   "id": "ede7136a-8ff9-4371-a5e0-d0981f647db4",
   "metadata": {},
   "source": [
    "### Classify state of the network"
   ]
  },
  {
   "cell_type": "markdown",
   "id": "79eb30ff-317d-4751-896f-0dec0da58fb4",
   "metadata": {},
   "source": [
    "**model SARIMAX**"
   ]
  },
  {
   "cell_type": "code",
   "execution_count": 13,
   "id": "e5a8ebac-f920-47dc-9e9e-cb3797ca8ae9",
   "metadata": {},
   "outputs": [
    {
     "name": "stderr",
     "output_type": "stream",
     "text": [
      "/opt/anaconda3/envs/env_tensorflow/lib/python3.9/site-packages/statsmodels/tsa/base/tsa_model.py:471: ValueWarning: A date index has been provided, but it has no associated frequency information and so will be ignored when e.g. forecasting.\n",
      "  self._init_dates(dates, freq)\n",
      "/opt/anaconda3/envs/env_tensorflow/lib/python3.9/site-packages/statsmodels/tsa/base/tsa_model.py:471: ValueWarning: A date index has been provided, but it has no associated frequency information and so will be ignored when e.g. forecasting.\n",
      "  self._init_dates(dates, freq)\n",
      "/opt/anaconda3/envs/env_tensorflow/lib/python3.9/site-packages/statsmodels/base/model.py:604: ConvergenceWarning: Maximum Likelihood optimization failed to converge. Check mle_retvals\n",
      "  warnings.warn(\"Maximum Likelihood optimization failed to \"\n",
      "/opt/anaconda3/envs/env_tensorflow/lib/python3.9/site-packages/statsmodels/tsa/base/tsa_model.py:834: ValueWarning: No supported index is available. Prediction results will be given with an integer index beginning at `start`.\n",
      "  return get_prediction_index(\n"
     ]
    }
   ],
   "source": [
    "from statsmodels.tsa.statespace.sarimax import SARIMAX\n",
    "import matplotlib.pyplot as plt\n",
    "\n",
    "# Créer un modèle SARIMAX avec les meilleurs hyperparamètres\n",
    "model = SARIMAX(y_train, order=(5, 1, 5), seasonal_order=(0, 0, 0, 0))\n",
    "\n",
    "# Entraîner le modèle sur les données d'entraînement\n",
    "model_fit = model.fit()\n",
    "\n",
    "# Faire des prédictions sur les données de validation\n",
    "y_pred = model_fit.predict(start=len(y_train), end=len(y_train)+len(y_valid)-1) "
   ]
  },
  {
   "cell_type": "code",
   "execution_count": 14,
   "id": "679e0560-7583-465b-9caa-d80ae5026179",
   "metadata": {},
   "outputs": [
    {
     "name": "stdout",
     "output_type": "stream",
     "text": [
      "                               SARIMAX Results                                \n",
      "==============================================================================\n",
      "Dep. Variable:              type_code   No. Observations:                 7736\n",
      "Model:               SARIMAX(5, 1, 5)   Log Likelihood               -2566.589\n",
      "Date:                Thu, 06 Apr 2023   AIC                           5155.179\n",
      "Time:                        22:05:39   BIC                           5231.667\n",
      "Sample:                             0   HQIC                          5181.404\n",
      "                               - 7736                                         \n",
      "Covariance Type:                  opg                                         \n",
      "==============================================================================\n",
      "                 coef    std err          z      P>|z|      [0.025      0.975]\n",
      "------------------------------------------------------------------------------\n",
      "ar.L1          0.3104      0.014     21.763      0.000       0.282       0.338\n",
      "ar.L2         -0.1698      0.015    -11.378      0.000      -0.199      -0.141\n",
      "ar.L3          0.0663      0.020      3.296      0.001       0.027       0.106\n",
      "ar.L4          0.0486      0.022      2.248      0.025       0.006       0.091\n",
      "ar.L5         -0.8550      0.017    -50.389      0.000      -0.888      -0.822\n",
      "ma.L1         -0.5698      0.015    -39.172      0.000      -0.598      -0.541\n",
      "ma.L2          0.3544      0.019     18.349      0.000       0.317       0.392\n",
      "ma.L3         -0.2056      0.019    -10.908      0.000      -0.243      -0.169\n",
      "ma.L4          0.0417      0.017      2.473      0.013       0.009       0.075\n",
      "ma.L5          0.5391      0.015     36.216      0.000       0.510       0.568\n",
      "sigma2         0.1136      0.000    601.124      0.000       0.113       0.114\n",
      "===================================================================================\n",
      "Ljung-Box (L1) (Q):                   4.08   Jarque-Bera (JB):          43858415.23\n",
      "Prob(Q):                              0.04   Prob(JB):                         0.00\n",
      "Heteroskedasticity (H):               1.00   Skew:                           -11.62\n",
      "Prob(H) (two-sided):                  0.91   Kurtosis:                       371.16\n",
      "===================================================================================\n",
      "\n",
      "Warnings:\n",
      "[1] Covariance matrix calculated using the outer product of gradients (complex-step).\n"
     ]
    }
   ],
   "source": [
    "# Print the model summary\n",
    "print(model_fit.summary())"
   ]
  },
  {
   "cell_type": "code",
   "execution_count": 15,
   "id": "70d85c7d-03e0-47a2-86cd-bd25cb87a800",
   "metadata": {},
   "outputs": [
    {
     "data": {
      "image/png": "[encoded data removed]",
      "text/plain": [
       "<Figure size 720x360 with 1 Axes>"
      ]
     },
     "metadata": {
      "needs_background": "light"
     },
     "output_type": "display_data"
    }
   ],
   "source": [
    "# Afficher les prédictions et les valeurs réelles\n",
    "plt.figure(figsize=(10, 5))\n",
    "plt.plot(y_valid.index, y_valid.values, label='Actual')\n",
    "plt.plot(y_valid.index, y_pred, label='Predicted')\n",
    "plt.legend()\n",
    "plt.title('SARIMAX Predictions')\n",
    "plt.show()"
   ]
  },
  {
   "cell_type": "code",
   "execution_count": 17,
   "id": "36137944-8dd3-4eaa-9a9f-42954dcc7bb2",
   "metadata": {},
   "outputs": [
    {
     "name": "stdout",
     "output_type": "stream",
     "text": [
      "Mean Absolute Error (MAE):  4.901257594719443\n",
      "Mean Squared Error (MSE):  28.499368571426427\n",
      "Root Mean Squared Error (RMSE):  5.3384799869837885\n"
     ]
    }
   ],
   "source": [
    "from sklearn.metrics import mean_absolute_error, mean_squared_error\n",
    "\n",
    "# Calculer les scores\n",
    "mae = mean_absolute_error(y_valid, y_pred)\n",
    "mse = mean_squared_error(y_valid, y_pred)\n",
    "rmse = np.sqrt(mse)\n",
    "\n",
    "# Afficher les scores\n",
    "print(\"Mean Absolute Error (MAE): \", mae)\n",
    "print(\"Mean Squared Error (MSE): \", mse)\n",
    "print(\"Root Mean Squared Error (RMSE): \", rmse)"
   ]
  },
  {
   "cell_type": "code",
   "execution_count": 7,
   "id": "75129d4b-2552-4104-bfd6-f479408ccc3a",
   "metadata": {},
   "outputs": [],
   "source": [
    "from statsmodels.tsa.statespace.sarimax import SARIMAX "
   ]
  },
  {
   "cell_type": "code",
   "execution_count": 8,
   "id": "bad45c79-898b-426a-9e8e-0d2e61beb072",
   "metadata": {},
   "outputs": [],
   "source": [
    "from sklearn.preprocessing import LabelEncoder\n",
    "\n",
    "le = LabelEncoder()\n",
    "y_train_encoded = le.fit_transform(y_train)\n",
    "y_valid_encoded = le.transform(y_valid)"
   ]
  },
  {
   "cell_type": "code",
   "execution_count": 9,
   "id": "05a04422-67e3-449d-b680-31832bb6fcfa",
   "metadata": {},
   "outputs": [],
   "source": [
    "# Créer le modèle ARIMA\n",
    "model = ARIMA(y_train_encoded, order=(5, 1, 0))\n",
    "model_fit = model.fit()\n",
    "\n",
    "# Faire des prédictions sur les données de validation\n",
    "y_pred = model_fit.predict(start=len(y_train_encoded), end=len(y_train_encoded) + len(y_valid_encoded) - 1)\n",
    "\n",
    "# Convertir les prédictions en classes\n",
    "y_pred_class = le.inverse_transform(y_pred.round().astype(int))"
   ]
  },
  {
   "cell_type": "code",
   "execution_count": 10,
   "id": "99dc187d-db5f-4690-b6ae-5f82cff5c5b5",
   "metadata": {},
   "outputs": [
    {
     "ename": "TypeError",
     "evalue": "predict() missing 1 required positional argument: 'params'",
     "output_type": "error",
     "traceback": [
      "\u001b[0;31m---------------------------------------------------------------------------\u001b[0m",
      "\u001b[0;31mTypeError\u001b[0m                                 Traceback (most recent call last)",
      "Cell \u001b[0;32mIn[10], line 2\u001b[0m\n\u001b[1;32m      1\u001b[0m \u001b[38;5;66;03m# Faire des prédictions sur les données de validation\u001b[39;00m\n\u001b[0;32m----> 2\u001b[0m y_pred \u001b[38;5;241m=\u001b[39m \u001b[43mmodel\u001b[49m\u001b[38;5;241;43m.\u001b[39;49m\u001b[43mpredict\u001b[49m\u001b[43m(\u001b[49m\u001b[43mstart\u001b[49m\u001b[38;5;241;43m=\u001b[39;49m\u001b[38;5;28;43mlen\u001b[39;49m\u001b[43m(\u001b[49m\u001b[43mX_train\u001b[49m\u001b[43m)\u001b[49m\u001b[43m,\u001b[49m\u001b[43m \u001b[49m\u001b[43mend\u001b[49m\u001b[38;5;241;43m=\u001b[39;49m\u001b[38;5;28;43mlen\u001b[39;49m\u001b[43m(\u001b[49m\u001b[43mX_train\u001b[49m\u001b[43m)\u001b[49m\u001b[38;5;241;43m+\u001b[39;49m\u001b[38;5;28;43mlen\u001b[39;49m\u001b[43m(\u001b[49m\u001b[43mX_valid\u001b[49m\u001b[43m)\u001b[49m\u001b[38;5;241;43m-\u001b[39;49m\u001b[38;5;241;43m1\u001b[39;49m\u001b[43m)\u001b[49m\n\u001b[1;32m      4\u001b[0m \u001b[38;5;66;03m# Afficher les prédictions et les valeurs réelles\u001b[39;00m\n\u001b[1;32m      5\u001b[0m plt\u001b[38;5;241m.\u001b[39mfigure(figsize\u001b[38;5;241m=\u001b[39m(\u001b[38;5;241m10\u001b[39m, \u001b[38;5;241m5\u001b[39m))\n",
      "\u001b[0;31mTypeError\u001b[0m: predict() missing 1 required positional argument: 'params'"
     ]
    }
   ],
   "source": [
    "# Faire des prédictions sur les données de validation\n",
    "y_pred = model.predict(start=len(X_train), end=len(X_train)+len(X_valid)-1)\n",
    "\n",
    "# Afficher les prédictions et les valeurs réelles\n",
    "plt.figure(figsize=(10, 5))\n",
    "plt.plot(y_valid.values, label='Valeurs réelles')\n",
    "plt.plot(y_pred, label='Prédictions')\n",
    "plt.legend()\n",
    "plt.show()\n"
   ]
  },
  {
   "cell_type": "code",
   "execution_count": null,
   "id": "fe399d7f-a804-4b93-8559-ce4d939a60ef",
   "metadata": {},
   "outputs": [],
   "source": []
  },
  {
   "cell_type": "code",
   "execution_count": null,
   "id": "b68bcadd-6454-4436-bb9a-a45bbe5795fe",
   "metadata": {},
   "outputs": [],
   "source": [
    "model = ARIMA(X_train['type_code'], order=(5,1,5))\n",
    "model_fit = model.fit()\n",
    "model_fit.summary()"
   ]
  },
  {
   "cell_type": "code",
   "execution_count": null,
   "id": "27d415ed-d9f5-4be0-8feb-926de2cb8299",
   "metadata": {},
   "outputs": [],
   "source": [
    "#Prediction on test\n",
    "start=len(X_train)\n",
    "end=len(X_train)+len(X_valid)-1\n",
    "pred=model_fit.predict(start=start, end=end, typ='levels')\n",
    "print(pred)"
   ]
  },
  {
   "cell_type": "code",
   "execution_count": null,
   "id": "8b5b9aef-d89e-4bcc-8bca-94f9ffe86a54",
   "metadata": {},
   "outputs": [],
   "source": [
    "pred.plot(legend=True)\n",
    "X_valid['type_code'].plot(legend=True)"
   ]
  },
  {
   "cell_type": "code",
   "execution_count": null,
   "id": "6bdf79ed-2f26-4fd5-9500-7e186e601a11",
   "metadata": {},
   "outputs": [],
   "source": [
    "from sklearn.metrics import mean_squared_error\n",
    "from math import sqrt\n",
    "rmse=sqrt(mean_squared_error(pred,X_valid['type_code']))\n",
    "print(rmse)"
   ]
  },
  {
   "cell_type": "code",
   "execution_count": null,
   "id": "4f5c8a39-fb65-4624-bf48-8e372d3d2e06",
   "metadata": {},
   "outputs": [],
   "source": []
  },
  {
   "cell_type": "code",
   "execution_count": null,
   "id": "9b200283-6ef0-49ea-b461-4400b377ec45",
   "metadata": {},
   "outputs": [],
   "source": []
  },
  {
   "cell_type": "code",
   "execution_count": null,
   "id": "2a44c2bb-e8fd-4427-a185-76c383bc43c4",
   "metadata": {},
   "outputs": [],
   "source": []
  },
  {
   "cell_type": "code",
   "execution_count": null,
   "id": "38a96d5f-1c67-498b-bc91-d61f4c9bd771",
   "metadata": {},
   "outputs": [],
   "source": [
    "#Create model\n",
    "model = Sequential()\n",
    "model.add(LSTM(64, input_shape=(n_input, n_features)))\n",
    "#model.add(Dropout(0.4))\n",
    "model.add(Dense(n_classes, activation='softmax'))\n",
    "#model.add(LSTM(100, activation='relu', input_shape=(n_input, n_features)))\n",
    "#model.add(LSTM(32, return_sequences=False))"
   ]
  },
  {
   "cell_type": "code",
   "execution_count": null,
   "id": "10911bb0-6474-4151-a22d-6c1fcf847233",
   "metadata": {},
   "outputs": [],
   "source": [
    "#Summary of the model\n",
    "model.summary()"
   ]
  },
  {
   "cell_type": "markdown",
   "id": "d18b3c0e-62f7-4b9a-b059-15ac51a6cbc7",
   "metadata": {},
   "source": [
    "<p>The Adam optimization algorithm is used for the formation of deep learning models. This is an extension of the stochastic gradient descent. In this optimization algorithm, the current averages of gradients and second moments of gradients are used. It is used to calculate adaptive learning rates for each parameter.</p>\n",
    "<p>The RMSprop optimizer is similar to the gradient descent algorithm with momentum. The RMSprop optimizer restricts the oscillations in the vertical direction. Therefore, we can increase our learning rate and our algorithm could take larger steps in the horizontal direction converging faster</p>"
   ]
  },
  {
   "cell_type": "code",
   "execution_count": null,
   "id": "44f70325-f72e-4ee6-b1f2-81d3244ed754",
   "metadata": {},
   "outputs": [],
   "source": [
    "#Compile the model\n",
    "opt_rms=RMSprop(lr=0.005)\n",
    "learning_rate = 0.001\n",
    "opt_adam = Adam(lr=learning_rate)\n",
    "model.compile(optimizer=opt_adam, loss='categorical_crossentropy', metrics=['accuracy'])"
   ]
  },
  {
   "cell_type": "code",
   "execution_count": null,
   "id": "4ab25d03-5d5a-4598-9676-578f09cf6247",
   "metadata": {},
   "outputs": [],
   "source": [
    "# define early stopping callback\n",
    "#early_stop = EarlyStopping(monitor='val_loss', patience=10)"
   ]
  },
  {
   "cell_type": "code",
   "execution_count": null,
   "id": "86a4f9a8-ed4e-4a6d-bcb1-95c8bc93fcda",
   "metadata": {},
   "outputs": [],
   "source": [
    "# train the model\n",
    "history = model.fit(train_generator, epochs=150, validation_data=valid_generator, verbose=1, batch_size=batch_size)"
   ]
  },
  {
   "cell_type": "code",
   "execution_count": null,
   "id": "00f4ea69-b76f-4b1d-b27c-9fc4ffac7e47",
   "metadata": {},
   "outputs": [],
   "source": [
    "#Evaluation of train and test\n",
    "train_loss, train_accuracy = model.evaluate(train_generator, batch_size=batch_size)\n",
    "test_loss, test_accuracy = model.evaluate(valid_generator, batch_size=batch_size)\n",
    "\n",
    "#Print the Accuracy\n",
    "print(\"Score of the train (loss) : {:.4f}\".format(train_loss))\n",
    "print(\"Accuracy of the train (accuracy) : {:.4f} %\".format(train_accuracy*100))\n",
    "print(\"Score of the test (loss) : {:.4f}\".format(test_loss))\n",
    "print(\"Accuracy of the test (accuracy) : {:.4f} %\".format(test_accuracy*100))"
   ]
  },
  {
   "cell_type": "code",
   "execution_count": null,
   "id": "89f814d3-b2d8-4733-bfc1-32763f830b18",
   "metadata": {},
   "outputs": [],
   "source": []
  },
  {
   "cell_type": "code",
   "execution_count": null,
   "id": "c4cb8c4b-8a07-4f74-ad48-2d3b519c38e3",
   "metadata": {},
   "outputs": [],
   "source": []
  }
 ],
 "metadata": {
  "kernelspec": {
   "display_name": "Python 3",
   "language": "python",
   "name": "python3"
  },
  "language_info": {
   "codemirror_mode": {
    "name": "ipython",
    "version": 3
   },
   "file_extension": ".py",
   "mimetype": "text/x-python",
   "name": "python",
   "nbconvert_exporter": "python",
   "pygments_lexer": "ipython3",
   "version": "3.9.16"
  }
 },
 "nbformat": 4,
 "nbformat_minor": 5
}
